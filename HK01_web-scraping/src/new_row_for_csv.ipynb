{
 "cells": [
  {
   "cell_type": "markdown",
   "id": "c81fc81d",
   "metadata": {},
   "source": [
    "# Add column to existing .csv"
   ]
  },
  {
   "cell_type": "code",
   "execution_count": 18,
   "id": "f0a7d7dd",
   "metadata": {},
   "outputs": [],
   "source": [
    "import pandas as pd\n",
    "import requests\n",
    "import itertools\n",
    "from tqdm import tqdm"
   ]
  },
  {
   "cell_type": "code",
   "execution_count": 2,
   "id": "1030320e",
   "metadata": {},
   "outputs": [],
   "source": [
    "def fetch_news_id(tag_ids: list, file=\"hk01_fulloutput.csv\":str):\n",
    "    df = pd.read_csv(file)\n",
    "    data = []\n",
    "    for element in tag_ids:\n",
    "        offset = \"<OFFSET>\"\n",
    "        while True:\n",
    "            hk01_api_article_list = f\"https://web-data.api.hk01.com/v2/feed/tag/{element}?offset={offset}\"\n",
    "            response = requests.get(hk01_api_article_list)\n",
    "            \n",
    "            # Check for successful response\n",
    "            if response.status_code == 200:\n",
    "                json_data = response.json()\n",
    "                try:\n",
    "                    # Update offset for pagination\n",
    "                    new_offset = str(json_data[\"nextOffset\"])\n",
    "                    if new_offset:\n",
    "                        offset = new_offset\n",
    "                        new_data = [i[\"data\"].get(\"articleId\") \n",
    "                                    for i in json_data.get(\"items\", [])]\n",
    "                        data.append(new_data)\n",
    "                except KeyError:\n",
    "                    # Break the loop if no further data is available\n",
    "                    break\n",
    "            else:\n",
    "                print(f\"Failed to fetch data for tag {element}. HTTP Status Code: {response.status_code}\")\n",
    "                break\n",
    "\n",
    "    # Flatten the list of data and create DataFrame\n",
    "    flatten_data = list(itertools.chain(*data))\n",
    "    difference = list(set(flatten_data) - set(list(df.articleId)))\n",
    "    return difference"
   ]
  },
  {
   "cell_type": "code",
   "execution_count": 19,
   "id": "a9b2d978",
   "metadata": {},
   "outputs": [],
   "source": [
    "def extracting_news_from_articleid(news_ids: list):\n",
    "    news_data = []  # Initialize an empty list to store news details\n",
    "    for news_id in tqdm(news_ids, desc=\"Extracting Article content\"):\n",
    "        news_link = f\"https://web-data.api.hk01.com/v2/page/article/{news_id}\"\n",
    "        response = requests.get(news_link)  # Send a request to the API\n",
    "        if response.status_code == 200:  # Check if the request was successful\n",
    "            try:\n",
    "                news_json = response.json()  # Parse the JSON data from the response\n",
    "                # Extract required details and append them to the news_data list\n",
    "                news_data.append([\n",
    "                    news_id,\n",
    "                    news_json[\"article\"][\"publishUrl\"],\n",
    "                    news_json[\"article\"][\"description\"],\n",
    "                    news_json[\"article\"][\"publishTime\"]\n",
    "                ])\n",
    "            except KeyError:  # Handle missing keys in the JSON data\n",
    "                # Optionally, you can log the error or handle it differently\n",
    "                print(f\"KeyError encountered for news_id: {news_id}\")\n",
    "                continue  # Continue to the next iteration instead of breaking the loop\n",
    "    df = pd.DataFrame(news_data, columns=[\"articleId\", 'publishUrl', 'description', \"publishTime\"])\n",
    "    df[\"publishTime\"] = pd.to_datetime(df[\"publishTime\"], unit=\"s\")\n",
    "    df.drop_duplicates(subset=[\"articleId\"])\n",
    "    return df"
   ]
  },
  {
   "cell_type": "code",
   "execution_count": 35,
   "id": "f5cfe7bb",
   "metadata": {},
   "outputs": [],
   "source": [
    "def output_file(df, output_filename):\n",
    "    try:\n",
    "        # Ensure the filename ends with '.csv'\n",
    "        if not output_filename.endswith('.csv'):\n",
    "            output_filename += '.csv'\n",
    "\n",
    "        # Exporting DataFrame to CSV\n",
    "        df.to_csv(output_filename, encoding=\"utf-8-sig\", index=False)\n",
    "        print(f\"File '{output_filename}' has been successfully saved.\")\n",
    "\n",
    "    except IOError as e:\n",
    "        print(f\"Error occurred while saving the file: {e}\")"
   ]
  },
  {
   "cell_type": "code",
   "execution_count": 36,
   "id": "92873a00",
   "metadata": {},
   "outputs": [],
   "source": [
    "def run_this(tag_id: list, input_filename: str, output_filename: str):\n",
    "    df = pd.read_csv(input_filename)\n",
    "    current_news_list = fetch_news_id([347,348,15217,25459],input_filename)\n",
    "    new_df = extracting_news_from_articleid(current_news_list)\n",
    "    df_full = pd.concat([df,new_df])\n",
    "    output_file(df_full,output_filename)"
   ]
  },
  {
   "cell_type": "code",
   "execution_count": 37,
   "id": "487d5048",
   "metadata": {},
   "outputs": [
    {
     "name": "stderr",
     "output_type": "stream",
     "text": [
      "Extracting Article content: 100%|██████████| 75/75 [00:24<00:00,  3.11it/s]"
     ]
    },
    {
     "name": "stdout",
     "output_type": "stream",
     "text": [
      "File 'hk01_fulloutput_addition.csv' has been successfully saved.\n"
     ]
    },
    {
     "name": "stderr",
     "output_type": "stream",
     "text": [
      "\n"
     ]
    }
   ],
   "source": [
    "run_this([347,348,15217,25459],\"hk01_fulloutput.csv\",\"hk01_fulloutput_addition.csv\")"
   ]
  },
  {
   "cell_type": "code",
   "execution_count": null,
   "id": "6067a906",
   "metadata": {},
   "outputs": [],
   "source": []
  },
  {
   "cell_type": "code",
   "execution_count": null,
   "id": "129a25a0",
   "metadata": {},
   "outputs": [],
   "source": []
  }
 ],
 "metadata": {
  "kernelspec": {
   "display_name": "Python 3 (ipykernel)",
   "language": "python",
   "name": "python3"
  },
  "language_info": {
   "codemirror_mode": {
    "name": "ipython",
    "version": 3
   },
   "file_extension": ".py",
   "mimetype": "text/x-python",
   "name": "python",
   "nbconvert_exporter": "python",
   "pygments_lexer": "ipython3",
   "version": "3.9.16"
  }
 },
 "nbformat": 4,
 "nbformat_minor": 5
}
